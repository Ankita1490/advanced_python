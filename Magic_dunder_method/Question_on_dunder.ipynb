{
 "cells": [
  {
   "cell_type": "markdown",
   "metadata": {},
   "source": [
    "### What are dunder methods in Python? Why are they important? \n",
    "* These are called magic method. dunder methods are used when you want to perform a specific class operations. the dunder simply __ double underscore.\n",
    "* if we want to perform some mathematic operations dunder method can be used \n",
    "* if you want to initalize a new class and bind any attribute\n",
    "* Overloading certain methods to make their behaviour specific to that class\n",
    "* syntax: Class ClassName:\n",
    "            def __method__(self, attribute1, attribute2, ..):\n",
    "                #method body here"
   ]
  },
  {
   "cell_type": "markdown",
   "metadata": {},
   "source": []
  },
  {
   "cell_type": "markdown",
   "metadata": {},
   "source": [
    "### What is the difference between __new__ and __init__? When would you override __new__?\n",
    "* __init__ when you want initialize the class object. it is called each time when u create the instance of a class\n",
    "* __new__ creates new instance of class"
   ]
  },
  {
   "cell_type": "markdown",
   "metadata": {},
   "source": [
    "#### How does __call__ work in Python? Can you give an example of a use case?\n",
    "* main idea of __call__ method is to write a class and invoke it as a function. it can be refered as callable obj\n"
   ]
  },
  {
   "cell_type": "code",
   "execution_count": 30,
   "metadata": {},
   "outputs": [
    {
     "name": "stdout",
     "output_type": "stream",
     "text": [
      "-10\n"
     ]
    }
   ],
   "source": [
    "class className:\n",
    "    def __call__(self):\n",
    "        return \"Hello you called me!\"\n",
    "class className:\n",
    "    def __init__(self, x, y):\n",
    "        self.x = x\n",
    "        self.y = y\n",
    "    def sub(self):\n",
    "        return self.x - self.y\n",
    "    __call__ =sub\n",
    "cls = className(10,20)\n",
    "print(cls())#output will be -10"
   ]
  },
  {
   "cell_type": "markdown",
   "metadata": {},
   "source": []
  },
  {
   "cell_type": "markdown",
   "metadata": {},
   "source": [
    "### Explain the role of __repr__ and __str__. How do they differ?\n",
    "* __repr__ returns are string representation of the object\n",
    "* it accepts no parameter\n",
    "* __str__ returns a reader_friendly string representaion of a class objects\n"
   ]
  },
  {
   "cell_type": "code",
   "execution_count": 8,
   "metadata": {},
   "outputs": [
    {
     "name": "stdout",
     "output_type": "stream",
     "text": [
      "Home with 2 rooms and 0 stories\n"
     ]
    }
   ],
   "source": [
    "class Home:\n",
    "    def __init__(self, rooms, stories):\n",
    "        self.rooms = rooms\n",
    "        self.stories = stories\n",
    "        \n",
    "    def __repr__(self):\n",
    "        return f\"Home with {self.rooms} rooms and {self.stories} stories\"\n",
    "        \n",
    "home =Home(2,0)\n",
    "print(home)"
   ]
  },
  {
   "cell_type": "code",
   "execution_count": 9,
   "metadata": {},
   "outputs": [
    {
     "name": "stdout",
     "output_type": "stream",
     "text": [
      "Home with 2 rooms and 0 stories\n"
     ]
    }
   ],
   "source": [
    "class Home:\n",
    "    def __init__(self, rooms, stories):\n",
    "        self.rooms = rooms\n",
    "        self.stories = stories\n",
    "        \n",
    "    def __str__(self):\n",
    "        return f\"Home with {self.rooms} rooms and {self.stories} stories\"\n",
    "        \n",
    "home =Home(2,0)\n",
    "print(home)"
   ]
  },
  {
   "cell_type": "markdown",
   "metadata": {},
   "source": [
    "### What happens when you override the __eq__ method in a class? Why is it useful?\n",
    "* it is a dunder method that stands for equality. meaning the equality operator. it is used when we want to compare two objects\n",
    "for example "
   ]
  },
  {
   "cell_type": "code",
   "execution_count": 10,
   "metadata": {},
   "outputs": [
    {
     "name": "stdout",
     "output_type": "stream",
     "text": [
      "False\n"
     ]
    }
   ],
   "source": [
    "class Person:\n",
    "    def __init__(self, name, age):\n",
    "        self.name = name\n",
    "        self.age = age\n",
    "        \n",
    "x = Person('Ankita',34)\n",
    "y = Person('Aishu', 30)\n",
    "z = Person('Ankita', 34)  \n",
    "\n",
    "print(x == z)\n",
    "\n",
    "## Here are we are comparing two object whether they are same here they are not. this where eq(self, other) comes into play. here we see that the \n",
    "## the self argument from one instance is equal to the another instance agrument if they are same"
   ]
  },
  {
   "cell_type": "code",
   "execution_count": 11,
   "metadata": {},
   "outputs": [
    {
     "name": "stdout",
     "output_type": "stream",
     "text": [
      "True\n"
     ]
    }
   ],
   "source": [
    "class Person:\n",
    "    def __init__(self, name, age):\n",
    "        self.name = name\n",
    "        self.age = age\n",
    "        \n",
    "    def __eq__(self, other):\n",
    "        return self.name == other.name  and self.age == other.age\n",
    "        \n",
    "x = Person('Ankita',34)\n",
    "y = Person('Aishu', 30)\n",
    "z = Person('Ankita', 34)  \n",
    "\n",
    "print(x == z)"
   ]
  },
  {
   "cell_type": "markdown",
   "metadata": {},
   "source": [
    "### Coding-Based Questions\n",
    "### Custom Object Comparison:\n",
    "* Implement a class where two objects are considered equal (==) if their attributes match."
   ]
  },
  {
   "cell_type": "code",
   "execution_count": null,
   "metadata": {},
   "outputs": [],
   "source": [
    "class Product:\n",
    "    def __init__(self, name, price):\n",
    "        self.name = name\n",
    "        self.price = price\n",
    "\n",
    "p1 = Product(\"Laptop\", 1500)\n",
    "p2 = Product(\"Laptop\", 1500)\n",
    "\n",
    "print(p1 == p2)  # Should return True"
   ]
  },
  {
   "cell_type": "code",
   "execution_count": 12,
   "metadata": {},
   "outputs": [
    {
     "name": "stdout",
     "output_type": "stream",
     "text": [
      "True\n"
     ]
    }
   ],
   "source": [
    "class Product:\n",
    "    def __init__(self, name, price):\n",
    "        self.name = name\n",
    "        self.price = price\n",
    "        \n",
    "    def __eq__(self, other):\n",
    "        return self.name == other.name and self.price == other.price\n",
    "\n",
    "p1 = Product(\"Laptop\", 1500)\n",
    "p2 = Product(\"Laptop\", 1500)\n",
    "\n",
    "print(p1 == p2)  # Should return True"
   ]
  },
  {
   "cell_type": "markdown",
   "metadata": {},
   "source": [
    "### Operator Overloading:\n",
    "* Implement a class Vector that supports addition (+) between two vector objects."
   ]
  },
  {
   "cell_type": "code",
   "execution_count": 18,
   "metadata": {},
   "outputs": [
    {
     "name": "stdout",
     "output_type": "stream",
     "text": [
      "6 8\n"
     ]
    }
   ],
   "source": [
    "class Vector:\n",
    "    def __init__(self, v1, v2):\n",
    "        self.v1 =v1\n",
    "        self.v2 =v2\n",
    "        \n",
    "    def __add__(self, other):\n",
    "        return Vector(self.v1 + other.v1, self.v2 +other.v2)\n",
    "    \n",
    "v1 = Vector(2,3)\n",
    "v2 = Vector(4,5)\n",
    "v3 =v1 +v2\n",
    "print(v3.v1, v3.v2)\n"
   ]
  },
  {
   "cell_type": "markdown",
   "metadata": {},
   "source": [
    "### Custom Object Representation:\n",
    "* Write a class that overrides __repr__ and __str__."
   ]
  },
  {
   "cell_type": "code",
   "execution_count": 29,
   "metadata": {},
   "outputs": [
    {
     "name": "stdout",
     "output_type": "stream",
     "text": [
      "House(name ='2', stories =0)\n",
      "House has 2 rooms and 0 stories\n"
     ]
    }
   ],
   "source": [
    "class House:\n",
    "    def __init__(self, room, stories):\n",
    "        self.room = room\n",
    "        self.stories = stories\n",
    "        \n",
    "    def __repr__(self):\n",
    "        return f\"House(name ='{self.room}', stories ={self.stories})\"\n",
    "    def __str__(self):\n",
    "        return f\"House has {self.room} rooms and {self.stories} stories\"\n",
    "    \n",
    "house = House(2,0)\n",
    "print(repr(house))\n",
    "print(str(house))\n",
    "        "
   ]
  },
  {
   "cell_type": "markdown",
   "metadata": {},
   "source": [
    "### Callable Objects:\n",
    "* Create a class Multiplier that allows an instance to be called like a function."
   ]
  },
  {
   "cell_type": "code",
   "execution_count": 23,
   "metadata": {},
   "outputs": [
    {
     "name": "stdout",
     "output_type": "stream",
     "text": [
      "50\n"
     ]
    }
   ],
   "source": [
    "class Multiplier:\n",
    "    def __init__(self, val):\n",
    "        self.val = val\n",
    "        \n",
    "    def __mul__(self, other):\n",
    "        return self.val * other.val\n",
    "    \n",
    "mul = Multiplier(5)\n",
    "mul1= Multiplier(10)\n",
    "print(mul * mul1)"
   ]
  },
  {
   "cell_type": "code",
   "execution_count": 24,
   "metadata": {},
   "outputs": [
    {
     "name": "stdout",
     "output_type": "stream",
     "text": [
      "1\n",
      "2\n",
      "3\n",
      "4\n"
     ]
    }
   ],
   "source": [
    "r = range(1, 5)\n",
    "iter_r = iter(r) # Should print numbers from 1 to 4\n",
    "while True:\n",
    "    try:\n",
    "        print(iter_r.__next__())\n",
    "    except:\n",
    "        break"
   ]
  },
  {
   "cell_type": "code",
   "execution_count": null,
   "metadata": {},
   "outputs": [],
   "source": [
    "class Counter:\n",
    "    def __init__(self, start, end):\n",
    "        self.start = start\n",
    "        self.end = end\n",
    "    def __iter__(self):\n",
    "        return self\n",
    "    def __next__(self):\n",
    "        \n",
    "        "
   ]
  }
 ],
 "metadata": {
  "interpreter": {
   "hash": "0bcd90ab6d4698f2497a8f7ae054dd19adc1d63997e14c30915abc8c1014699c"
  },
  "kernelspec": {
   "display_name": "Python 3.11.7 ('base')",
   "language": "python",
   "name": "python3"
  },
  "language_info": {
   "codemirror_mode": {
    "name": "ipython",
    "version": 3
   },
   "file_extension": ".py",
   "mimetype": "text/x-python",
   "name": "python",
   "nbconvert_exporter": "python",
   "pygments_lexer": "ipython3",
   "version": "3.11.7"
  },
  "orig_nbformat": 4
 },
 "nbformat": 4,
 "nbformat_minor": 2
}
